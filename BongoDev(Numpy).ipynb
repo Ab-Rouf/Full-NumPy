{
  "nbformat": 4,
  "nbformat_minor": 0,
  "metadata": {
    "colab": {
      "provenance": [],
      "gpuType": "T4",
      "authorship_tag": "ABX9TyPGTxZ0AcLTZO2oflaX1ch2",
      "include_colab_link": true
    },
    "kernelspec": {
      "name": "python3",
      "display_name": "Python 3"
    },
    "language_info": {
      "name": "python"
    }
  },
  "cells": [
    {
      "cell_type": "markdown",
      "metadata": {
        "id": "view-in-github",
        "colab_type": "text"
      },
      "source": [
        "<a href=\"https://colab.research.google.com/github/Ab-Rouf/Full-NumPy/blob/main/BongoDev(Numpy).ipynb\" target=\"_parent\"><img src=\"https://colab.research.google.com/assets/colab-badge.svg\" alt=\"Open In Colab\"/></a>"
      ]
    },
    {
      "cell_type": "markdown",
      "source": [
        "#Numpy basic\n",
        "Numpy=Numerical python\n",
        "\n",
        "-Numpy is a python Library\n",
        "\n",
        "-Numpy is used for working with arrays"
      ],
      "metadata": {
        "id": "VQpmKGsblORH"
      }
    },
    {
      "cell_type": "code",
      "execution_count": null,
      "metadata": {
        "id": "byJJm4YblJHn"
      },
      "outputs": [],
      "source": [
        "import numpy as np"
      ]
    },
    {
      "cell_type": "code",
      "source": [
        "my_list=[1,2,3,4,5]\n",
        "print(type(my_list))\n",
        "print(my_list)"
      ],
      "metadata": {
        "colab": {
          "base_uri": "https://localhost:8080/"
        },
        "id": "J2GfgdH7pesS",
        "outputId": "659677be-27ad-4dd5-8af8-4fe78a6247e0"
      },
      "execution_count": null,
      "outputs": [
        {
          "output_type": "stream",
          "name": "stdout",
          "text": [
            "<class 'list'>\n",
            "[1, 2, 3, 4, 5]\n"
          ]
        }
      ]
    },
    {
      "cell_type": "code",
      "source": [
        "my_np_array=np.array(my_list)\n",
        "print(my_np_array)"
      ],
      "metadata": {
        "colab": {
          "base_uri": "https://localhost:8080/"
        },
        "id": "WMORIcj7rRNs",
        "outputId": "e5db3460-f972-4757-cef2-43029d9c4a66"
      },
      "execution_count": null,
      "outputs": [
        {
          "output_type": "stream",
          "name": "stdout",
          "text": [
            "[1 2 3 4 5]\n"
          ]
        }
      ]
    },
    {
      "cell_type": "code",
      "source": [
        "my_np_array.dtype"
      ],
      "metadata": {
        "colab": {
          "base_uri": "https://localhost:8080/"
        },
        "id": "88eP63SRrXjd",
        "outputId": "5dff4f65-4d86-4f68-b35a-f00563f6af13"
      },
      "execution_count": null,
      "outputs": [
        {
          "output_type": "execute_result",
          "data": {
            "text/plain": [
              "dtype('int64')"
            ]
          },
          "metadata": {},
          "execution_count": 45
        }
      ]
    },
    {
      "cell_type": "code",
      "source": [
        "my_np_array.shape"
      ],
      "metadata": {
        "colab": {
          "base_uri": "https://localhost:8080/"
        },
        "id": "tCwc0i_LuLAB",
        "outputId": "e40267f1-2057-4de1-9cf8-d77373dfdf90"
      },
      "execution_count": null,
      "outputs": [
        {
          "output_type": "execute_result",
          "data": {
            "text/plain": [
              "(5,)"
            ]
          },
          "metadata": {},
          "execution_count": 46
        }
      ]
    },
    {
      "cell_type": "code",
      "source": [
        "my_np_array.ndim"
      ],
      "metadata": {
        "colab": {
          "base_uri": "https://localhost:8080/"
        },
        "id": "EBVadNFiuUQt",
        "outputId": "9efb5feb-025a-40e9-fbde-cf5d5864700b"
      },
      "execution_count": null,
      "outputs": [
        {
          "output_type": "execute_result",
          "data": {
            "text/plain": [
              "1"
            ]
          },
          "metadata": {},
          "execution_count": 47
        }
      ]
    },
    {
      "cell_type": "markdown",
      "source": [
        "#"
      ],
      "metadata": {
        "id": "PBAPJDaTu6p6"
      }
    },
    {
      "cell_type": "code",
      "source": [
        "zeros_np_arrays=np.zeros(shape=(3,3))\n",
        "zeros_np_arrays"
      ],
      "metadata": {
        "colab": {
          "base_uri": "https://localhost:8080/"
        },
        "id": "uQIU-R77ukvh",
        "outputId": "4a7e2a63-bf29-4db0-dbe5-7e23e2caad71"
      },
      "execution_count": null,
      "outputs": [
        {
          "output_type": "execute_result",
          "data": {
            "text/plain": [
              "array([[0., 0., 0.],\n",
              "       [0., 0., 0.],\n",
              "       [0., 0., 0.]])"
            ]
          },
          "metadata": {},
          "execution_count": 48
        }
      ]
    },
    {
      "cell_type": "code",
      "source": [
        "ones_np_array=np.ones(shape=(10,2), dtype=int)\n",
        "print(ones_np_array)\n",
        "print(ones_np_array.dtype)\n"
      ],
      "metadata": {
        "id": "3JXPTnEnvMLI",
        "colab": {
          "base_uri": "https://localhost:8080/"
        },
        "outputId": "ffec21d3-69c4-40cb-dfca-e229e12647b8"
      },
      "execution_count": null,
      "outputs": [
        {
          "output_type": "stream",
          "name": "stdout",
          "text": [
            "[[1 1]\n",
            " [1 1]\n",
            " [1 1]\n",
            " [1 1]\n",
            " [1 1]\n",
            " [1 1]\n",
            " [1 1]\n",
            " [1 1]\n",
            " [1 1]\n",
            " [1 1]]\n",
            "int64\n"
          ]
        }
      ]
    },
    {
      "cell_type": "code",
      "source": [
        "# create an array with specific values.\n",
        "\n",
        "np_arrays=np.full(shape=(2,3),fill_value=15,dtype=int)\n",
        "print(np_arrays)"
      ],
      "metadata": {
        "id": "h4_kF0o_yaNy",
        "colab": {
          "base_uri": "https://localhost:8080/"
        },
        "outputId": "8f99b8ae-d557-4d8b-fd61-ffa47911e7c5"
      },
      "execution_count": null,
      "outputs": [
        {
          "output_type": "stream",
          "name": "stdout",
          "text": [
            "[[15 15 15]\n",
            " [15 15 15]]\n"
          ]
        }
      ]
    },
    {
      "cell_type": "code",
      "source": [
        "# create identity matrix\n",
        "my_matrix=np.eye(4)\n",
        "print(my_matrix)"
      ],
      "metadata": {
        "colab": {
          "base_uri": "https://localhost:8080/"
        },
        "id": "3a_T88PGze8m",
        "outputId": "fd66fee3-65a6-4111-fce0-1d22927fdaa7"
      },
      "execution_count": null,
      "outputs": [
        {
          "output_type": "stream",
          "name": "stdout",
          "text": [
            "[[1. 0. 0. 0.]\n",
            " [0. 1. 0. 0.]\n",
            " [0. 0. 1. 0.]\n",
            " [0. 0. 0. 1.]]\n"
          ]
        }
      ]
    },
    {
      "cell_type": "code",
      "source": [
        "#type casting in this code\n",
        "my_matrix_int=my_matrix.astype(int)\n",
        "print(my_matrix_int)"
      ],
      "metadata": {
        "colab": {
          "base_uri": "https://localhost:8080/"
        },
        "id": "_qdFr86u45j2",
        "outputId": "3c58283f-97ad-451b-f2f8-dced9efb81c5"
      },
      "execution_count": null,
      "outputs": [
        {
          "output_type": "stream",
          "name": "stdout",
          "text": [
            "[[1 0 0 0]\n",
            " [0 1 0 0]\n",
            " [0 0 1 0]\n",
            " [0 0 0 1]]\n"
          ]
        }
      ]
    },
    {
      "cell_type": "code",
      "source": [
        "sequential_array=np.arange(start=1,stop=10,step=2)\n",
        "print(sequential_array)"
      ],
      "metadata": {
        "colab": {
          "base_uri": "https://localhost:8080/"
        },
        "id": "lMtJxom05CYO",
        "outputId": "3f315081-1d00-4d77-c71d-63b37919c3eb"
      },
      "execution_count": null,
      "outputs": [
        {
          "output_type": "stream",
          "name": "stdout",
          "text": [
            "[1 3 5 7 9]\n"
          ]
        }
      ]
    },
    {
      "cell_type": "code",
      "source": [
        "#create a linearly spaced array\n",
        "linearly_spaced_array=np.linspace(\n",
        "    start=1,stop=100,num=7)\n",
        "print(linearly_spaced_array)\n"
      ],
      "metadata": {
        "colab": {
          "base_uri": "https://localhost:8080/"
        },
        "id": "1oDN1EN-7JyS",
        "outputId": "97a688db-f1d2-4953-97fc-f93c066dc098"
      },
      "execution_count": null,
      "outputs": [
        {
          "output_type": "stream",
          "name": "stdout",
          "text": [
            "[  1.   17.5  34.   50.5  67.   83.5 100. ]\n"
          ]
        }
      ]
    },
    {
      "cell_type": "markdown",
      "source": [
        "# Advance Numpy methods\n",
        "\n",
        "Objectives:\n",
        "\n",
        "1. Multidimentional Numpy arrays\n",
        "\n",
        "2. Numpy Operation: indexing, sliacing, reshape, filtering, vectorization, Broadcasting.\n",
        "3. Numpy Axis\n",
        "4. Numpy Random"
      ],
      "metadata": {
        "id": "yaAn5RggETpn"
      }
    },
    {
      "cell_type": "code",
      "source": [
        "my_array=np.arange(start=1,stop=10,step=2)\n",
        "print(my_array)"
      ],
      "metadata": {
        "id": "XuAXxgqB8Nmj",
        "colab": {
          "base_uri": "https://localhost:8080/"
        },
        "outputId": "c4bf5a33-a47b-47fc-e734-7dbd4985b24e"
      },
      "execution_count": null,
      "outputs": [
        {
          "output_type": "stream",
          "name": "stdout",
          "text": [
            "[1 3 5 7 9]\n"
          ]
        }
      ]
    },
    {
      "cell_type": "code",
      "source": [
        "#Multidimensional Numpy\n",
        "\n",
        "scalar=np.array(45)\n",
        "vector=np.array([1,2,3,4,5,6])\n",
        "matrix=np.array([[1,2,3,4],[5,6,7,8],[9,10,11,18]])\n",
        "\n",
        "\n",
        "print(scalar)\n",
        "print(vector)\n",
        "print(matrix)\n"
      ],
      "metadata": {
        "id": "eqBwKDsVb7qX",
        "colab": {
          "base_uri": "https://localhost:8080/"
        },
        "outputId": "22bd6043-b64e-46f5-c652-449fbb120179"
      },
      "execution_count": null,
      "outputs": [
        {
          "output_type": "stream",
          "name": "stdout",
          "text": [
            "45\n",
            "[1 2 3 4 5 6]\n",
            "[[ 1  2  3  4]\n",
            " [ 5  6  7  8]\n",
            " [ 9 10 11 18]]\n"
          ]
        }
      ]
    },
    {
      "cell_type": "code",
      "source": [
        "# Array slicing\n",
        "print(vector)\n",
        "print(\"after slicing\")\n",
        "print(vector[1:3])\n",
        "print(vector[1:len(vector):2])"
      ],
      "metadata": {
        "colab": {
          "base_uri": "https://localhost:8080/"
        },
        "id": "x9djcZ2l3UwX",
        "outputId": "9f2f21dc-009d-4135-898d-15d423f1a258"
      },
      "execution_count": null,
      "outputs": [
        {
          "output_type": "stream",
          "name": "stdout",
          "text": [
            "[1 2 3 4 5 6]\n",
            "after slicing\n",
            "[2 3]\n",
            "[2 4 6]\n"
          ]
        }
      ]
    },
    {
      "cell_type": "code",
      "source": [
        "#slicing with 2d array\n",
        "print(matrix)\n",
        "print(matrix[1:3,1:3])"
      ],
      "metadata": {
        "colab": {
          "base_uri": "https://localhost:8080/"
        },
        "id": "CIVSAb1N3vrD",
        "outputId": "24022102-299c-459f-a3f6-99cd68b71c23"
      },
      "execution_count": null,
      "outputs": [
        {
          "output_type": "stream",
          "name": "stdout",
          "text": [
            "[[ 1  2  3  4]\n",
            " [ 5  6  7  8]\n",
            " [ 9 10 11 18]]\n",
            "[[ 6  7]\n",
            " [10 11]]\n"
          ]
        }
      ]
    },
    {
      "cell_type": "code",
      "source": [
        "# again\n",
        "print(matrix[0:3:2, 0:4:2])"
      ],
      "metadata": {
        "colab": {
          "base_uri": "https://localhost:8080/"
        },
        "id": "w2J2tuvcJFdx",
        "outputId": "97a279b5-b8a2-46ee-be74-42366f345ce1"
      },
      "execution_count": null,
      "outputs": [
        {
          "output_type": "stream",
          "name": "stdout",
          "text": [
            "[[ 1  3]\n",
            " [ 9 11]]\n"
          ]
        }
      ]
    },
    {
      "cell_type": "code",
      "source": [
        "# Array reshape\n",
        "\n",
        "my_2d_array=np.array([[1,2,3,4,5],[6,7,8,9,10],[11,12,13,14,15]])\n",
        "print(my_2d_array)\n"
      ],
      "metadata": {
        "colab": {
          "base_uri": "https://localhost:8080/"
        },
        "id": "yhg039NwKCDM",
        "outputId": "ba28b520-09c9-4c0d-b5a2-13b85e2067c4"
      },
      "execution_count": null,
      "outputs": [
        {
          "output_type": "stream",
          "name": "stdout",
          "text": [
            "[[ 1  2  3  4  5]\n",
            " [ 6  7  8  9 10]\n",
            " [11 12 13 14 15]]\n"
          ]
        }
      ]
    },
    {
      "cell_type": "code",
      "source": [
        "my_2d_array.shape"
      ],
      "metadata": {
        "colab": {
          "base_uri": "https://localhost:8080/"
        },
        "id": "5QWyRPvnKiTO",
        "outputId": "dea14e2d-0535-4196-f5a9-0be2453dc76f"
      },
      "execution_count": null,
      "outputs": [
        {
          "output_type": "execute_result",
          "data": {
            "text/plain": [
              "(3, 5)"
            ]
          },
          "metadata": {},
          "execution_count": 61
        }
      ]
    },
    {
      "cell_type": "code",
      "source": [
        "array_reshape=my_2d_array.reshape(5,3)\n",
        "print(array_reshape)\n",
        "\n",
        "print(\"Again reshape :\")\n",
        "print(array_reshape.reshape(1,3,5))"
      ],
      "metadata": {
        "colab": {
          "base_uri": "https://localhost:8080/"
        },
        "id": "kXJuAp4cKk2Q",
        "outputId": "5ef249e5-e936-4bbe-c08b-0493be4de37c"
      },
      "execution_count": null,
      "outputs": [
        {
          "output_type": "stream",
          "name": "stdout",
          "text": [
            "[[ 1  2  3]\n",
            " [ 4  5  6]\n",
            " [ 7  8  9]\n",
            " [10 11 12]\n",
            " [13 14 15]]\n",
            "Again reshape :\n",
            "[[[ 1  2  3  4  5]\n",
            "  [ 6  7  8  9 10]\n",
            "  [11 12 13 14 15]]]\n"
          ]
        }
      ]
    },
    {
      "cell_type": "code",
      "source": [
        "my_np_array=np.zeros(shape=(3,4,2,2))\n",
        "print(my_np_array)"
      ],
      "metadata": {
        "colab": {
          "base_uri": "https://localhost:8080/"
        },
        "id": "jYxjG3DqKvCO",
        "outputId": "d569a6bc-d361-4e4b-f7b6-f0b3da3b3057"
      },
      "execution_count": null,
      "outputs": [
        {
          "output_type": "stream",
          "name": "stdout",
          "text": [
            "[[[[0. 0.]\n",
            "   [0. 0.]]\n",
            "\n",
            "  [[0. 0.]\n",
            "   [0. 0.]]\n",
            "\n",
            "  [[0. 0.]\n",
            "   [0. 0.]]\n",
            "\n",
            "  [[0. 0.]\n",
            "   [0. 0.]]]\n",
            "\n",
            "\n",
            " [[[0. 0.]\n",
            "   [0. 0.]]\n",
            "\n",
            "  [[0. 0.]\n",
            "   [0. 0.]]\n",
            "\n",
            "  [[0. 0.]\n",
            "   [0. 0.]]\n",
            "\n",
            "  [[0. 0.]\n",
            "   [0. 0.]]]\n",
            "\n",
            "\n",
            " [[[0. 0.]\n",
            "   [0. 0.]]\n",
            "\n",
            "  [[0. 0.]\n",
            "   [0. 0.]]\n",
            "\n",
            "  [[0. 0.]\n",
            "   [0. 0.]]\n",
            "\n",
            "  [[0. 0.]\n",
            "   [0. 0.]]]]\n"
          ]
        }
      ]
    },
    {
      "cell_type": "code",
      "source": [
        "rashape_array=my_np_array.reshape(2,2,12)\n",
        "print(rashape_array)"
      ],
      "metadata": {
        "colab": {
          "base_uri": "https://localhost:8080/"
        },
        "id": "Ro8DtqotLtLG",
        "outputId": "b3313519-dcf4-4379-8804-f6284be2ef99"
      },
      "execution_count": null,
      "outputs": [
        {
          "output_type": "stream",
          "name": "stdout",
          "text": [
            "[[[0. 0. 0. 0. 0. 0. 0. 0. 0. 0. 0. 0.]\n",
            "  [0. 0. 0. 0. 0. 0. 0. 0. 0. 0. 0. 0.]]\n",
            "\n",
            " [[0. 0. 0. 0. 0. 0. 0. 0. 0. 0. 0. 0.]\n",
            "  [0. 0. 0. 0. 0. 0. 0. 0. 0. 0. 0. 0.]]]\n"
          ]
        }
      ]
    },
    {
      "cell_type": "code",
      "source": [
        "#Numpy filtering :\n",
        "\n",
        "Array_filter=np.array([1,2,3,4,5,6])\n",
        "filter_mask=[True,False,True,False,True,False]\n",
        "\n",
        "print(Array_filter[filter_mask])\n"
      ],
      "metadata": {
        "colab": {
          "base_uri": "https://localhost:8080/"
        },
        "id": "Mp1REyowMaan",
        "outputId": "06e38252-f6d2-46dd-e144-400a75ba8df1"
      },
      "execution_count": null,
      "outputs": [
        {
          "output_type": "stream",
          "name": "stdout",
          "text": [
            "[1 3 5]\n"
          ]
        }
      ]
    },
    {
      "cell_type": "code",
      "source": [
        "#Numpy vectorizarion\n",
        "\n",
        "for val in Array_filter:\n",
        "  if val % 2==1:\n",
        "    print(val)\n",
        "\n",
        "Array_filter[Array_filter%2==1]"
      ],
      "metadata": {
        "colab": {
          "base_uri": "https://localhost:8080/"
        },
        "id": "WDeMnJiAUiJl",
        "outputId": "fa561296-dac3-424a-e8b1-cf71c6fa5936"
      },
      "execution_count": null,
      "outputs": [
        {
          "output_type": "stream",
          "name": "stdout",
          "text": [
            "1\n",
            "3\n",
            "5\n"
          ]
        },
        {
          "output_type": "execute_result",
          "data": {
            "text/plain": [
              "array([1, 3, 5])"
            ]
          },
          "metadata": {},
          "execution_count": 66
        }
      ]
    },
    {
      "cell_type": "code",
      "source": [
        "my_numpy_array=np.array([1,2,3,4,5,6])\n",
        "print(my_numpy_array)\n",
        "\n",
        "my_numpy_array+=5\n",
        "\n",
        "print(my_numpy_array)\n"
      ],
      "metadata": {
        "colab": {
          "base_uri": "https://localhost:8080/"
        },
        "id": "yRhjaAKLUx4L",
        "outputId": "5230ff22-e0b6-4616-d85e-64b94e2dc024"
      },
      "execution_count": null,
      "outputs": [
        {
          "output_type": "stream",
          "name": "stdout",
          "text": [
            "[1 2 3 4 5 6]\n",
            "[ 6  7  8  9 10 11]\n"
          ]
        }
      ]
    },
    {
      "cell_type": "code",
      "source": [
        "\"\"\" Broadcasting\n",
        "-converting a lower shape into higher shape for vectorization.\n",
        "\n",
        "\n",
        "\"\"\"\n",
        "w=np.array([1,2])\n",
        "x=np.array([[1,2],\n",
        "            [3,4],\n",
        "            [7,-8],\n",
        "            [-5,-3]\n",
        "\n",
        "            ])\n",
        "print(w *x)\n"
      ],
      "metadata": {
        "colab": {
          "base_uri": "https://localhost:8080/"
        },
        "id": "sEsJAF8GZZ2v",
        "outputId": "bb790929-653f-44e7-e26b-e70469690632"
      },
      "execution_count": null,
      "outputs": [
        {
          "output_type": "stream",
          "name": "stdout",
          "text": [
            "[[  1   4]\n",
            " [  3   8]\n",
            " [  7 -16]\n",
            " [ -5  -6]]\n"
          ]
        }
      ]
    },
    {
      "cell_type": "code",
      "source": [
        "print(w.shape)\n",
        "print(x.shape)"
      ],
      "metadata": {
        "colab": {
          "base_uri": "https://localhost:8080/"
        },
        "id": "Iaby4xX-aqni",
        "outputId": "fed04748-3a22-4585-aed2-8cacca9e182d"
      },
      "execution_count": null,
      "outputs": [
        {
          "output_type": "stream",
          "name": "stdout",
          "text": [
            "(2,)\n",
            "(4, 2)\n"
          ]
        }
      ]
    },
    {
      "cell_type": "code",
      "source": [
        "# Numpy Axis\n",
        "my_np_array1=np.array(\n",
        "    [[1,5,-2],\n",
        "    [0,1,9]]\n",
        "    )\n",
        "my_np_array1.shape\n"
      ],
      "metadata": {
        "colab": {
          "base_uri": "https://localhost:8080/"
        },
        "id": "Q90I_5ZirGPe",
        "outputId": "0e1da8d1-0225-40b9-a795-ad0e10c23707"
      },
      "execution_count": null,
      "outputs": [
        {
          "output_type": "execute_result",
          "data": {
            "text/plain": [
              "(2, 3)"
            ]
          },
          "metadata": {},
          "execution_count": 72
        }
      ]
    },
    {
      "cell_type": "code",
      "source": [
        "sum_all_elements=np.sum(my_np_array1)\n",
        "print(sum_all_elements)"
      ],
      "metadata": {
        "colab": {
          "base_uri": "https://localhost:8080/"
        },
        "id": "Z4Lbph_Ss0FF",
        "outputId": "f16c4411-15cd-4297-c139-1da89d792d27"
      },
      "execution_count": null,
      "outputs": [
        {
          "output_type": "stream",
          "name": "stdout",
          "text": [
            "14\n"
          ]
        }
      ]
    },
    {
      "cell_type": "code",
      "source": [
        "np.sum(my_np_array1,axis=1)"
      ],
      "metadata": {
        "colab": {
          "base_uri": "https://localhost:8080/"
        },
        "id": "0sTIxdfBuE-W",
        "outputId": "3d1bfd84-f40f-4b78-f030-3cfcb2897e21"
      },
      "execution_count": null,
      "outputs": [
        {
          "output_type": "execute_result",
          "data": {
            "text/plain": [
              "array([ 4, 10])"
            ]
          },
          "metadata": {},
          "execution_count": 74
        }
      ]
    },
    {
      "cell_type": "code",
      "source": [],
      "metadata": {
        "id": "lO2RYceiuNj6"
      },
      "execution_count": null,
      "outputs": []
    }
  ]
}